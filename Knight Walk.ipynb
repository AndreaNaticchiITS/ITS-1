{
 "cells": [
  {
   "cell_type": "markdown",
   "metadata": {},
   "source": [
    "# Knight Walk"
   ]
  },
  {
   "cell_type": "code",
   "execution_count": 1,
   "metadata": {},
   "outputs": [],
   "source": [
    "import numpy as np\n",
    "import matplotlib.pyplot as plt"
   ]
  },
  {
   "cell_type": "code",
   "execution_count": 2,
   "metadata": {},
   "outputs": [],
   "source": [
    "def initialize_board(n):\n",
    "    z = 2*n + 1\n",
    "    board = np.zeros((z, z), int)\n",
    "    i = 1\n",
    "    board[n, n] = i\n",
    "    i += 1\n",
    "\n",
    "    x, y = n, n\n",
    "\n",
    "    for circle in range(n):\n",
    "        x += 1\n",
    "        y += 1\n",
    "        steps = 2 * (circle + 1)\n",
    "        for up in range(steps):\n",
    "            y -= 1\n",
    "            board[y, x] = i\n",
    "            i += 1\n",
    "        for left in range(steps):\n",
    "            x -= 1\n",
    "            board[y, x] = i\n",
    "            i += 1\n",
    "        for down in range(steps):\n",
    "            y += 1\n",
    "            board[y, x] = i\n",
    "            i += 1\n",
    "        for right in range(steps):\n",
    "            x += 1\n",
    "            board[y, x] = i\n",
    "            i += 1\n",
    "    return board"
   ]
  },
  {
   "cell_type": "code",
   "execution_count": 4,
   "metadata": {},
   "outputs": [
    {
     "data": {
      "text/plain": [
       "array([[37, 36, 35, 34, 33, 32, 31],\n",
       "       [38, 17, 16, 15, 14, 13, 30],\n",
       "       [39, 18,  5,  4,  3, 12, 29],\n",
       "       [40, 19,  6,  1,  2, 11, 28],\n",
       "       [41, 20,  7,  8,  9, 10, 27],\n",
       "       [42, 21, 22, 23, 24, 25, 26],\n",
       "       [43, 44, 45, 46, 47, 48, 49]])"
      ]
     },
     "execution_count": 4,
     "metadata": {},
     "output_type": "execute_result"
    }
   ],
   "source": [
    "initialize_board(3)"
   ]
  },
  {
   "cell_type": "code",
   "execution_count": null,
   "metadata": {},
   "outputs": [],
   "source": [
    "def simulate_walk(board):\n",
    "    c = len(board)//2\n",
    "    x, y = x, c\n",
    "    moves = [(2, 1), (2, -1), (-2, -1), (-2, 1), (1, 2), (1, -2), (-1, -2), (-1, 2)]\n",
    "    visited = [] # list of tuples with visited cells, in (y, x) coordinates \n",
    "\n",
    "    for i in moves:\n",
    "        possible_moves = []\n"
   ]
  },
  {
   "cell_type": "code",
   "execution_count": null,
   "metadata": {},
   "outputs": [],
   "source": []
  }
 ],
 "metadata": {
  "kernelspec": {
   "display_name": "Python 3",
   "language": "python",
   "name": "python3"
  },
  "language_info": {
   "codemirror_mode": {
    "name": "ipython",
    "version": 3
   },
   "file_extension": ".py",
   "mimetype": "text/x-python",
   "name": "python",
   "nbconvert_exporter": "python",
   "pygments_lexer": "ipython3",
   "version": "3.11.0"
  },
  "orig_nbformat": 4
 },
 "nbformat": 4,
 "nbformat_minor": 2
}
